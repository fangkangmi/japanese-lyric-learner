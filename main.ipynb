{
 "cells": [
  {
   "cell_type": "code",
   "execution_count": null,
   "metadata": {},
   "outputs": [
    {
     "ename": "",
     "evalue": "",
     "output_type": "error",
     "traceback": [
      "\u001b[1;31mRunning cells with 'Python 3.12.3' requires the ipykernel package.\n",
      "\u001b[1;31mRun the following command to install 'ipykernel' into the Python environment. \n",
      "\u001b[1;31mCommand: '/bin/python3 -m pip install ipykernel -U --user --force-reinstall'"
     ]
    }
   ],
   "source": [
    "import openai\n",
    "\n",
    "# 设置API密钥\n",
    "openai.api_key = \"your_api_key_here\"\n",
    "\n",
    "# 歌词分段\n",
    "lyrics = [\n",
    "    \"多分 私じゃなくていいね\\n余裕のない二人だったし\\n気付けば喧嘩ばっかりしてさ\\nごめんね\",\n",
    "    \"君が笑うたびに\\n僕は少し強くなる\\n未来を信じてみたい\"\n",
    "]\n",
    "\n",
    "# 定义Prompt模板\n",
    "prompt_template = \"\"\"\n",
    "你是一位日语导师，正在教一个对日语歌曲感兴趣的中国学生学习日语。以下是歌词的一部分，请逐句提供翻译和语法解释：\n",
    "\n",
    "{segment}\n",
    "\n",
    "输出格式要求：\n",
    "- 每句歌词单独列出。\n",
    "- 翻译和语法解释分开。\n",
    "- 关键词汇和语法点用清晰的项目符号标注。\n",
    "\"\"\"\n",
    "\n",
    "# 调用API逐段处理\n",
    "for segment in lyrics:\n",
    "    response = openai.ChatCompletion.create(\n",
    "        model=\"gpt-3.5-turbo\",\n",
    "        messages=[\n",
    "            {\"role\": \"user\", \"content\": prompt_template.format(segment=segment)}\n",
    "        ]\n",
    "    )\n",
    "    print(response.choices[0].message['content'])"
   ]
  }
 ],
 "metadata": {
  "kernelspec": {
   "display_name": "Python 3",
   "language": "python",
   "name": "python3"
  },
  "language_info": {
   "name": "python",
   "version": "3.12.3"
  }
 },
 "nbformat": 4,
 "nbformat_minor": 2
}
